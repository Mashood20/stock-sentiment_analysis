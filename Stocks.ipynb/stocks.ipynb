{
 "cells": [
  {
   "cell_type": "code",
   "execution_count": 1,
   "metadata": {},
   "outputs": [],
   "source": [
    "import pandas as pd\n",
    "import matplotlib.pyplot as plt\n",
    "import numpy as np\n",
    "import yfinance as yf"
   ]
  },
  {
   "cell_type": "code",
   "execution_count": 6,
   "metadata": {},
   "outputs": [],
   "source": [
    "msft =  yf.Ticker('MSFT')"
   ]
  },
  {
   "cell_type": "code",
   "execution_count": 7,
   "metadata": {},
   "outputs": [],
   "source": [
    "info = msft.info\n"
   ]
  },
  {
   "cell_type": "code",
   "execution_count": 8,
   "metadata": {},
   "outputs": [],
   "source": [
    "hist = msft.history(period='max')"
   ]
  },
  {
   "cell_type": "code",
   "execution_count": 9,
   "metadata": {},
   "outputs": [
    {
     "data": {
      "text/html": [
       "<div>\n",
       "<style scoped>\n",
       "    .dataframe tbody tr th:only-of-type {\n",
       "        vertical-align: middle;\n",
       "    }\n",
       "\n",
       "    .dataframe tbody tr th {\n",
       "        vertical-align: top;\n",
       "    }\n",
       "\n",
       "    .dataframe thead th {\n",
       "        text-align: right;\n",
       "    }\n",
       "</style>\n",
       "<table border=\"1\" class=\"dataframe\">\n",
       "  <thead>\n",
       "    <tr style=\"text-align: right;\">\n",
       "      <th></th>\n",
       "      <th>Open</th>\n",
       "      <th>High</th>\n",
       "      <th>Low</th>\n",
       "      <th>Close</th>\n",
       "      <th>Volume</th>\n",
       "      <th>Dividends</th>\n",
       "      <th>Stock Splits</th>\n",
       "    </tr>\n",
       "    <tr>\n",
       "      <th>Date</th>\n",
       "      <th></th>\n",
       "      <th></th>\n",
       "      <th></th>\n",
       "      <th></th>\n",
       "      <th></th>\n",
       "      <th></th>\n",
       "      <th></th>\n",
       "    </tr>\n",
       "  </thead>\n",
       "  <tbody>\n",
       "    <tr>\n",
       "      <th>1986-03-13 00:00:00-05:00</th>\n",
       "      <td>0.054893</td>\n",
       "      <td>0.062965</td>\n",
       "      <td>0.054893</td>\n",
       "      <td>0.060274</td>\n",
       "      <td>1031788800</td>\n",
       "      <td>0.0</td>\n",
       "      <td>0.0</td>\n",
       "    </tr>\n",
       "    <tr>\n",
       "      <th>1986-03-14 00:00:00-05:00</th>\n",
       "      <td>0.060274</td>\n",
       "      <td>0.063504</td>\n",
       "      <td>0.060274</td>\n",
       "      <td>0.062427</td>\n",
       "      <td>308160000</td>\n",
       "      <td>0.0</td>\n",
       "      <td>0.0</td>\n",
       "    </tr>\n",
       "    <tr>\n",
       "      <th>1986-03-17 00:00:00-05:00</th>\n",
       "      <td>0.062427</td>\n",
       "      <td>0.064042</td>\n",
       "      <td>0.062427</td>\n",
       "      <td>0.063503</td>\n",
       "      <td>133171200</td>\n",
       "      <td>0.0</td>\n",
       "      <td>0.0</td>\n",
       "    </tr>\n",
       "    <tr>\n",
       "      <th>1986-03-18 00:00:00-05:00</th>\n",
       "      <td>0.063504</td>\n",
       "      <td>0.064042</td>\n",
       "      <td>0.061350</td>\n",
       "      <td>0.061889</td>\n",
       "      <td>67766400</td>\n",
       "      <td>0.0</td>\n",
       "      <td>0.0</td>\n",
       "    </tr>\n",
       "    <tr>\n",
       "      <th>1986-03-19 00:00:00-05:00</th>\n",
       "      <td>0.061889</td>\n",
       "      <td>0.062427</td>\n",
       "      <td>0.060274</td>\n",
       "      <td>0.060812</td>\n",
       "      <td>47894400</td>\n",
       "      <td>0.0</td>\n",
       "      <td>0.0</td>\n",
       "    </tr>\n",
       "    <tr>\n",
       "      <th>...</th>\n",
       "      <td>...</td>\n",
       "      <td>...</td>\n",
       "      <td>...</td>\n",
       "      <td>...</td>\n",
       "      <td>...</td>\n",
       "      <td>...</td>\n",
       "      <td>...</td>\n",
       "    </tr>\n",
       "    <tr>\n",
       "      <th>2023-12-12 00:00:00-05:00</th>\n",
       "      <td>370.850006</td>\n",
       "      <td>374.420013</td>\n",
       "      <td>370.459991</td>\n",
       "      <td>374.380005</td>\n",
       "      <td>24838300</td>\n",
       "      <td>0.0</td>\n",
       "      <td>0.0</td>\n",
       "    </tr>\n",
       "    <tr>\n",
       "      <th>2023-12-13 00:00:00-05:00</th>\n",
       "      <td>376.019989</td>\n",
       "      <td>377.640015</td>\n",
       "      <td>370.769989</td>\n",
       "      <td>374.369995</td>\n",
       "      <td>30955500</td>\n",
       "      <td>0.0</td>\n",
       "      <td>0.0</td>\n",
       "    </tr>\n",
       "    <tr>\n",
       "      <th>2023-12-14 00:00:00-05:00</th>\n",
       "      <td>373.309998</td>\n",
       "      <td>373.760010</td>\n",
       "      <td>364.130005</td>\n",
       "      <td>365.929993</td>\n",
       "      <td>43277500</td>\n",
       "      <td>0.0</td>\n",
       "      <td>0.0</td>\n",
       "    </tr>\n",
       "    <tr>\n",
       "      <th>2023-12-15 00:00:00-05:00</th>\n",
       "      <td>366.850006</td>\n",
       "      <td>372.399994</td>\n",
       "      <td>366.279999</td>\n",
       "      <td>370.730011</td>\n",
       "      <td>78478200</td>\n",
       "      <td>0.0</td>\n",
       "      <td>0.0</td>\n",
       "    </tr>\n",
       "    <tr>\n",
       "      <th>2023-12-18 00:00:00-05:00</th>\n",
       "      <td>369.450012</td>\n",
       "      <td>371.910004</td>\n",
       "      <td>368.679993</td>\n",
       "      <td>371.820007</td>\n",
       "      <td>4844041</td>\n",
       "      <td>0.0</td>\n",
       "      <td>0.0</td>\n",
       "    </tr>\n",
       "  </tbody>\n",
       "</table>\n",
       "<p>9519 rows × 7 columns</p>\n",
       "</div>"
      ],
      "text/plain": [
       "                                 Open        High         Low       Close  \\\n",
       "Date                                                                        \n",
       "1986-03-13 00:00:00-05:00    0.054893    0.062965    0.054893    0.060274   \n",
       "1986-03-14 00:00:00-05:00    0.060274    0.063504    0.060274    0.062427   \n",
       "1986-03-17 00:00:00-05:00    0.062427    0.064042    0.062427    0.063503   \n",
       "1986-03-18 00:00:00-05:00    0.063504    0.064042    0.061350    0.061889   \n",
       "1986-03-19 00:00:00-05:00    0.061889    0.062427    0.060274    0.060812   \n",
       "...                               ...         ...         ...         ...   \n",
       "2023-12-12 00:00:00-05:00  370.850006  374.420013  370.459991  374.380005   \n",
       "2023-12-13 00:00:00-05:00  376.019989  377.640015  370.769989  374.369995   \n",
       "2023-12-14 00:00:00-05:00  373.309998  373.760010  364.130005  365.929993   \n",
       "2023-12-15 00:00:00-05:00  366.850006  372.399994  366.279999  370.730011   \n",
       "2023-12-18 00:00:00-05:00  369.450012  371.910004  368.679993  371.820007   \n",
       "\n",
       "                               Volume  Dividends  Stock Splits  \n",
       "Date                                                            \n",
       "1986-03-13 00:00:00-05:00  1031788800        0.0           0.0  \n",
       "1986-03-14 00:00:00-05:00   308160000        0.0           0.0  \n",
       "1986-03-17 00:00:00-05:00   133171200        0.0           0.0  \n",
       "1986-03-18 00:00:00-05:00    67766400        0.0           0.0  \n",
       "1986-03-19 00:00:00-05:00    47894400        0.0           0.0  \n",
       "...                               ...        ...           ...  \n",
       "2023-12-12 00:00:00-05:00    24838300        0.0           0.0  \n",
       "2023-12-13 00:00:00-05:00    30955500        0.0           0.0  \n",
       "2023-12-14 00:00:00-05:00    43277500        0.0           0.0  \n",
       "2023-12-15 00:00:00-05:00    78478200        0.0           0.0  \n",
       "2023-12-18 00:00:00-05:00     4844041        0.0           0.0  \n",
       "\n",
       "[9519 rows x 7 columns]"
      ]
     },
     "execution_count": 9,
     "metadata": {},
     "output_type": "execute_result"
    }
   ],
   "source": [
    "hist"
   ]
  },
  {
   "cell_type": "code",
   "execution_count": 10,
   "metadata": {},
   "outputs": [
    {
     "data": {
      "text/plain": [
       "<AxesSubplot:xlabel='Date'>"
      ]
     },
     "execution_count": 10,
     "metadata": {},
     "output_type": "execute_result"
    },
    {
     "data": {
      "image/png": "[encoded data removed]",
      "text/plain": [
       "<Figure size 1080x360 with 1 Axes>"
      ]
     },
     "metadata": {
      "needs_background": "light"
     },
     "output_type": "display_data"
    }
   ],
   "source": [
    "hist['Open'].plot(figsize=(15,5))"
   ]
  },
  {
   "cell_type": "code",
   "execution_count": 21,
   "metadata": {},
   "outputs": [],
   "source": [
    "stocks = [\"KO\", \"AMZN\", \"UBER\", \"TSLA\", \"AAPL\"]\n"
   ]
  },
  {
   "cell_type": "code",
   "execution_count": 23,
   "metadata": {},
   "outputs": [
    {
     "data": {
      "text/plain": [
       "['KO', 'AMZN', 'UBER', 'TSLA', 'AAPL']"
      ]
     },
     "execution_count": 23,
     "metadata": {},
     "output_type": "execute_result"
    }
   ],
   "source": [
    "stocks"
   ]
  },
  {
   "cell_type": "code",
   "execution_count": 28,
   "metadata": {},
   "outputs": [],
   "source": [
    "hist = {}\n",
    "for s in stocks:\n",
    "    tkr = yf.Ticker(s)\n",
    "    history = tkr.history(period='3y')\n",
    "    hist[s] = history\n",
    "    break"
   ]
  },
  {
   "cell_type": "code",
   "execution_count": 29,
   "metadata": {},
   "outputs": [
    {
     "data": {
      "text/plain": [
       "{'KO':                                 Open       High        Low      Close  \\\n",
       " Date                                                                    \n",
       " 2020-12-18 00:00:00-05:00  48.450512  49.144225  48.030629  49.052948   \n",
       " 2020-12-21 00:00:00-05:00  48.085385  48.377476  47.446437  48.204048   \n",
       " 2020-12-22 00:00:00-05:00  48.204059  48.541787  47.820688  48.158417   \n",
       " 2020-12-23 00:00:00-05:00  48.331842  48.733465  48.322712  48.450504   \n",
       " 2020-12-24 00:00:00-05:00  48.395739  48.879513  48.395739  48.779106   \n",
       " ...                              ...        ...        ...        ...   \n",
       " 2023-12-12 00:00:00-05:00  59.200001  59.419998  58.900002  59.419998   \n",
       " 2023-12-13 00:00:00-05:00  59.450001  60.020000  59.259998  59.930000   \n",
       " 2023-12-14 00:00:00-05:00  59.970001  60.040001  58.770000  59.040001   \n",
       " 2023-12-15 00:00:00-05:00  58.830002  59.169998  57.799999  58.599998   \n",
       " 2023-12-18 00:00:00-05:00  58.799999  59.099998  58.619999  59.037601   \n",
       " \n",
       "                              Volume  Dividends  Stock Splits  \n",
       " Date                                                          \n",
       " 2020-12-18 00:00:00-05:00  35480100        0.0           0.0  \n",
       " 2020-12-21 00:00:00-05:00  14926600        0.0           0.0  \n",
       " 2020-12-22 00:00:00-05:00   9689500        0.0           0.0  \n",
       " 2020-12-23 00:00:00-05:00   7040300        0.0           0.0  \n",
       " 2020-12-24 00:00:00-05:00   3265500        0.0           0.0  \n",
       " ...                             ...        ...           ...  \n",
       " 2023-12-12 00:00:00-05:00  12899000        0.0           0.0  \n",
       " 2023-12-13 00:00:00-05:00  16196800        0.0           0.0  \n",
       " 2023-12-14 00:00:00-05:00  22478300        0.0           0.0  \n",
       " 2023-12-15 00:00:00-05:00  65172300        0.0           0.0  \n",
       " 2023-12-18 00:00:00-05:00   3650821        0.0           0.0  \n",
       " \n",
       " [754 rows x 7 columns]}"
      ]
     },
     "execution_count": 29,
     "metadata": {},
     "output_type": "execute_result"
    }
   ],
   "source": []
  }
 ],
 "metadata": {
  "kernelspec": {
   "display_name": "Python 3.9.7 ('base')",
   "language": "python",
   "name": "python3"
  },
  "language_info": {
   "codemirror_mode": {
    "name": "ipython",
    "version": 3
   },
   "file_extension": ".py",
   "mimetype": "text/x-python",
   "name": "python",
   "nbconvert_exporter": "python",
   "pygments_lexer": "ipython3",
   "version": "3.9.7"
  },
  "orig_nbformat": 4,
  "vscode": {
   "interpreter": {
    "hash": "40d3a090f54c6569ab1632332b64b2c03c39dcf918b08424e98f38b5ae0af88f"
   }
  }
 },
 "nbformat": 4,
 "nbformat_minor": 2
}
