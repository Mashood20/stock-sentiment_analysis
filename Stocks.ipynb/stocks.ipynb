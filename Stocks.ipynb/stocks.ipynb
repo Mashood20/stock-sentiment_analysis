{
 "cells": [
  {
   "cell_type": "code",
   "execution_count": 1,
   "metadata": {},
   "outputs": [],
   "source": [
    "import pandas as pd\n",
    "import matplotlib.pyplot as plt\n",
    "import numpy as np\n",
    "import yfinance as yf"
   ]
  },
  {
   "cell_type": "code",
   "execution_count": 3,
   "metadata": {},
   "outputs": [
    {
     "name": "stdout",
     "output_type": "stream",
     "text": [
      "{'address1': 'One Microsoft Way', 'city': 'Redmond', 'state': 'WA', 'zip': '98052-6399', 'country': 'United States', 'phone': '425 882 8080', 'website': 'https://www.microsoft.com', 'industry': 'Software - Infrastructure', 'industryKey': 'software-infrastructure', 'industryDisp': 'Software - Infrastructure', 'sector': 'Technology', 'sectorKey': 'technology', 'sectorDisp': 'Technology', 'longBusinessSummary': 'Microsoft Corporation develops and supports software, services, devices and solutions worldwide. The Productivity and Business Processes segment offers office, exchange, SharePoint, Microsoft Teams, office 365 Security and Compliance, Microsoft viva, and Microsoft 365 copilot; and office consumer services, such as Microsoft 365 consumer subscriptions, Office licensed on-premises, and other office services. This segment also provides LinkedIn; and dynamics business solutions, including Dynamics 365, a set of intelligent, cloud-based applications across ERP, CRM, power apps, and power automate; and on-premises ERP and CRM applications. The Intelligent Cloud segment offers server products and cloud services, such as azure and other cloud services; SQL and windows server, visual studio, system center, and related client access licenses, as well as nuance and GitHub; and enterprise services including enterprise support services, industry solutions, and nuance professional services. The More Personal Computing segment offers Windows, including windows OEM licensing and other non-volume licensing of the Windows operating system; Windows commercial comprising volume licensing of the Windows operating system, windows cloud services, and other Windows commercial offerings; patent licensing; and windows Internet of Things; and devices, such as surface, HoloLens, and PC accessories. Additionally, this segment provides gaming, which includes Xbox hardware and content, and first- and third-party content; Xbox game pass and other subscriptions, cloud gaming, advertising, third-party disc royalties, and other cloud services; and search and news advertising, which includes Bing, Microsoft News and Edge, and third-party affiliates. The company sells its products through OEMs, distributors, and resellers; and directly through digital marketplaces, online, and retail stores. The company was founded in 1975 and is headquartered in Redmond, Washington.', 'fullTimeEmployees': 221000, 'companyOfficers': [{'maxAge': 1, 'name': 'Mr. Satya  Nadella', 'age': 55, 'title': 'Chairman & CEO', 'yearBorn': 1967, 'fiscalYear': 2023, 'totalPay': 9276400, 'exercisedValue': 0, 'unexercisedValue': 0}, {'maxAge': 1, 'name': 'Mr. Bradford L. Smith LCA', 'age': 63, 'title': 'President & Vice Chairman', 'yearBorn': 1959, 'fiscalYear': 2023, 'totalPay': 3591277, 'exercisedValue': 0, 'unexercisedValue': 0}, {'maxAge': 1, 'name': 'Ms. Amy E. Hood', 'age': 50, 'title': 'Executive VP & CFO', 'yearBorn': 1972, 'fiscalYear': 2023, 'totalPay': 3452196, 'exercisedValue': 0, 'unexercisedValue': 0}, {'maxAge': 1, 'name': 'Mr. Judson B. Althoff', 'age': 49, 'title': 'Executive VP & Chief Commercial Officer', 'yearBorn': 1973, 'fiscalYear': 2023, 'totalPay': 3355797, 'exercisedValue': 0, 'unexercisedValue': 0}, {'maxAge': 1, 'name': 'Mr. Christopher David Young', 'age': 50, 'title': 'Executive Vice President of Business Development, Strategy & Ventures', 'yearBorn': 1972, 'fiscalYear': 2023, 'totalPay': 2460507, 'exercisedValue': 0, 'unexercisedValue': 0}, {'maxAge': 1, 'name': 'Ms. Alice L. Jolla', 'age': 55, 'title': 'Corporate VP & Chief Accounting Officer', 'yearBorn': 1967, 'fiscalYear': 2023, 'exercisedValue': 0, 'unexercisedValue': 0}, {'maxAge': 1, 'name': 'Mr. James Kevin Scott', 'age': 50, 'title': 'Executive VP of AI & CTO', 'yearBorn': 1972, 'fiscalYear': 2023, 'exercisedValue': 0, 'unexercisedValue': 0}, {'maxAge': 1, 'name': 'Brett  Iversen', 'title': 'Vice President of Investor Relations', 'fiscalYear': 2023, 'exercisedValue': 0, 'unexercisedValue': 0}, {'maxAge': 1, 'name': 'Mr. Hossein  Nowbar', 'title': 'Chief Legal Officer', 'fiscalYear': 2023, 'exercisedValue': 0, 'unexercisedValue': 0}, {'maxAge': 1, 'name': 'Mr. Frank X. Shaw', 'title': 'Chief Communications Officer', 'fiscalYear': 2023, 'exercisedValue': 0, 'unexercisedValue': 0}], 'auditRisk': 6, 'boardRisk': 4, 'compensationRisk': 2, 'shareHolderRightsRisk': 2, 'overallRisk': 2, 'governanceEpochDate': 1701388800, 'compensationAsOfEpochDate': 1703980800, 'maxAge': 86400, 'priceHint': 2, 'previousClose': 370.73, 'open': 369.45, 'dayLow': 368.68, 'dayHigh': 371.3708, 'regularMarketPreviousClose': 370.73, 'regularMarketOpen': 369.45, 'regularMarketDayLow': 368.68, 'regularMarketDayHigh': 371.3708, 'dividendRate': 3.0, 'dividendYield': 0.0081, 'exDividendDate': 1707868800, 'payoutRatio': 0.2636, 'fiveYearAvgDividendYield': 1.01, 'beta': 0.897, 'trailingPE': 35.92691, 'forwardPE': 31.265797, 'volume': 4549829, 'regularMarketVolume': 4549829, 'averageVolume': 26427420, 'averageVolume10days': 32483240, 'averageDailyVolume10Day': 32483240, 'bid': 370.7, 'ask': 370.74, 'bidSize': 800, 'askSize': 1100, 'marketCap': 2758297518080, 'fiftyTwoWeekLow': 219.35, 'fiftyTwoWeekHigh': 384.3, 'priceToSalesTrailing12Months': 12.634774, 'fiftyDayAverage': 355.7078, 'twoHundredDayAverage': 324.729, 'trailingAnnualDividendRate': 2.79, 'trailingAnnualDividendYield': 0.007525692, 'currency': 'USD', 'enterpriseValue': 2717098704896, 'profitMargins': 0.35314998, 'floatShares': 7425796261, 'sharesOutstanding': 7432260096, 'sharesShort': 49279547, 'sharesShortPriorMonth': 39562050, 'sharesShortPreviousMonthDate': 1698710400, 'dateShortInterest': 1701302400, 'sharesPercentSharesOut': 0.0066000004, 'heldPercentInsiders': 0.00055, 'heldPercentInstitutions': 0.73208, 'shortRatio': 1.87, 'shortPercentOfFloat': 0.0066000004, 'impliedSharesOutstanding': 7603060224, 'bookValue': 29.702, 'priceToBook': 12.49495, 'lastFiscalYearEnd': 1688083200, 'nextFiscalYearEnd': 1719705600, 'mostRecentQuarter': 1696032000, 'earningsQuarterlyGrowth': 0.27, 'netIncomeToCommon': 77096001536, 'trailingEps': 10.33, 'forwardEps': 11.87, 'pegRatio': 2.54, 'lastSplitFactor': '2:1', 'lastSplitDate': 1045526400, 'enterpriseToRevenue': 12.446, 'enterpriseToEbitda': 25.035, '52WeekChange': 0.5418174, 'SandP52WeekChange': 0.23614728, 'lastDividendValue': 0.75, 'lastDividendDate': 1700006400, 'exchange': 'NMS', 'quoteType': 'EQUITY', 'symbol': 'MSFT', 'underlyingSymbol': 'MSFT', 'shortName': 'Microsoft Corporation', 'longName': 'Microsoft Corporation', 'firstTradeDateEpochUtc': 511108200, 'timeZoneFullName': 'America/New_York', 'timeZoneShortName': 'EST', 'uuid': 'b004b3ec-de24-385e-b2c1-923f10d3fb62', 'messageBoardId': 'finmb_21835', 'gmtOffSetMilliseconds': -18000000, 'currentPrice': 371.125, 'targetHighPrice': 435.43, 'targetLowPrice': 261.26, 'targetMeanPrice': 373.12, 'targetMedianPrice': 380.43, 'recommendationMean': 1.7, 'recommendationKey': 'buy', 'numberOfAnalystOpinions': 47, 'totalCash': 143945007104, 'totalCashPerShare': 19.368, 'ebitda': 108530999296, 'totalDebt': 105681002496, 'quickRatio': 1.531, 'currentRatio': 1.663, 'totalRevenue': 218310000640, 'debtToEquity': 47.881, 'revenuePerShare': 29.347, 'returnOnAssets': 0.1457, 'returnOnEquity': 0.39106998, 'freeCashflow': 50418876416, 'operatingCashflow': 94966996992, 'earningsGrowth': 0.272, 'revenueGrowth': 0.128, 'grossMargins': 0.69441, 'ebitdaMargins': 0.49714002, 'operatingMargins': 0.47587, 'financialCurrency': 'USD', 'trailingPegRatio': 2.1997}\n"
     ]
    }
   ],
   "source": [
    "info =  yf.Ticker('MSFT').info\n",
    "print(info)\n"
   ]
  }
 ],
 "metadata": {
  "kernelspec": {
   "display_name": "Python 3.9.7 ('base')",
   "language": "python",
   "name": "python3"
  },
  "language_info": {
   "codemirror_mode": {
    "name": "ipython",
    "version": 3
   },
   "file_extension": ".py",
   "mimetype": "text/x-python",
   "name": "python",
   "nbconvert_exporter": "python",
   "pygments_lexer": "ipython3",
   "version": "3.9.7"
  },
  "orig_nbformat": 4,
  "vscode": {
   "interpreter": {
    "hash": "40d3a090f54c6569ab1632332b64b2c03c39dcf918b08424e98f38b5ae0af88f"
   }
  }
 },
 "nbformat": 4,
 "nbformat_minor": 2
}
